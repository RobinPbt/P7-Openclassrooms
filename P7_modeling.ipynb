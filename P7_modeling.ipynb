{
 "cells": [
  {
   "cell_type": "markdown",
   "id": "7cb37a03",
   "metadata": {},
   "source": [
    "# Table of Contents --> TBU\n",
    "\n",
    "1. [Global parameters](#1-bullet) <br>\n",
    "    <br>\n",
    "    \n",
    "2. [Loading datas](#2-bullet) <br>\n",
    "    <br>\n",
    "\n",
    "3. [Preprocessing](#3-bullet) <br>\n",
    "    I - [Cleaning](#4-bullet) <br>\n",
    "    II - [Split train/test and preprocessing](#5-bullet) <br>\n",
    "    III - [Dimensionality reduction](#6-bullet) <br>\n",
    "    IV - [Creation of folds for cv](#7-bullet) <br>\n",
    "    <br>\n",
    "\n",
    "4. [Model testing](#8-bullet) <br>\n",
    "    I - [Dummy classifiers ](#9-bullet) <br>\n",
    "    II - [Quick testing](#15-bullet) <br>\n",
    "    III - [Linear models](#10-bullet) <br>\n",
    "    VI - [KNN](#11-bullet) <br>\n",
    "    V - [SVM](#12-bullet) <br>\n",
    "    VI - [Trees and ensemblist methods](#13-bullet) <br>\n",
    "    VII - [Neural networks](#14-bullet) <br>\n",
    "    VIII - [Compare](#16-bullet) <br>\n",
    "    <br>\n",
    "\n",
    "5. [xx](#xx-bullet) <br>\n",
    "    I - [xx](#xx-bullet) <br>\n",
    "    II - [xx](#xx-bullet) <br>\n",
    "    III - [xx](#xx-bullet) <br>\n",
    "    IV - [xx](#xx-bullet) <br>\n",
    "    V - [xx](#xx-bullet) <br>\n",
    "    VI - [xx](#xx-bullet) <br>\n",
    "    VII - [xx](#xx-bullet) <br>\n",
    "    <br>"
   ]
  },
  {
   "cell_type": "markdown",
   "id": "8702077a",
   "metadata": {},
   "source": [
    "# 1. Global parameters <a class=\"anchor\" id=\"1-bullet\"></a>"
   ]
  },
  {
   "cell_type": "code",
   "execution_count": 1,
   "id": "40275ca3",
   "metadata": {},
   "outputs": [],
   "source": [
    "# General input\n",
    "random_state = 50 \n",
    "\n",
    "# Cross-validation\n",
    "optimized_metric = 'roc_auc' \n",
    "num_folds = 5\n",
    "stratified = True"
   ]
  },
  {
   "cell_type": "markdown",
   "id": "27c16c80",
   "metadata": {},
   "source": [
    "# 2. Loading datas <a class=\"anchor\" id=\"2-bullet\"></a>"
   ]
  },
  {
   "cell_type": "code",
   "execution_count": 2,
   "id": "a30bce97",
   "metadata": {},
   "outputs": [],
   "source": [
    "# Classic libraries\n",
    "import pandas as pd\n",
    "import numpy as np\n",
    "import matplotlib.pyplot as plt\n",
    "import seaborn as sns\n",
    "import time\n",
    "import timeit\n",
    "from contextlib import contextmanager\n",
    "\n",
    "import warnings\n",
    "from pandas.core.common import SettingWithCopyWarning\n",
    "# warnings.simplefilter(action='ignore', category=SettingWithCopyWarning)\n",
    "\n",
    "# Project specific functions\n",
    "from P7_functions import *\n",
    "\n",
    "# Preprocessing\n",
    "from sklearn.model_selection import train_test_split\n",
    "from sklearn import manifold, decomposition\n",
    "from sklearn.model_selection import KFold, StratifiedKFold\n",
    "from sklearn.compose import ColumnTransformer\n",
    "from sklearn.pipeline import Pipeline\n",
    "from sklearn.impute import SimpleImputer\n",
    "from sklearn.preprocessing import OneHotEncoder, OrdinalEncoder\n",
    "from sklearn.preprocessing import StandardScaler\n",
    "\n",
    "# Sklearn models\n",
    "from sklearn.ensemble import GradientBoostingClassifier\n",
    "from sklearn.ensemble import RandomForestClassifier\n",
    "from sklearn.neighbors import KNeighborsClassifier\n",
    "from sklearn.gaussian_process import GaussianProcessClassifier\n",
    "from sklearn.linear_model import LogisticRegression\n",
    "from sklearn.linear_model import RidgeClassifier\n",
    "from sklearn.linear_model import SGDClassifier\n",
    "from sklearn.svm import LinearSVC\n",
    "from sklearn.svm import NuSVC\n",
    "from sklearn.svm import SVC\n",
    "from sklearn.tree import DecisionTreeClassifier\n",
    "\n",
    "# Evaluation\n",
    "from sklearn.metrics import roc_auc_score, roc_curve\n",
    "from sklearn.metrics import accuracy_score, f1_score, precision_score, recall_score\n",
    "from sklearn.metrics import log_loss\n",
    "from sklearn.model_selection import GridSearchCV\n",
    "from sklearn.dummy import DummyClassifier"
   ]
  },
  {
   "cell_type": "code",
   "execution_count": 3,
   "id": "e839d2b4",
   "metadata": {},
   "outputs": [],
   "source": [
    "@contextmanager\n",
    "def timer(title):\n",
    "    t0 = time.time()\n",
    "    yield\n",
    "    print(\"{} - done in {:.0f}s\".format(title, time.time() - t0))"
   ]
  },
  {
   "cell_type": "code",
   "execution_count": 4,
   "id": "74f2bf88",
   "metadata": {},
   "outputs": [],
   "source": [
    "baseline_data = pd.read_csv('./Clean_datas/baseline_data.csv', sep=\",\")\n",
    "data = pd.read_csv('./Clean_datas/clean_data_1.csv', sep=\",\")"
   ]
  },
  {
   "cell_type": "code",
   "execution_count": 5,
   "id": "32fb710c",
   "metadata": {},
   "outputs": [
    {
     "data": {
      "text/html": [
       "<div>\n",
       "<style scoped>\n",
       "    .dataframe tbody tr th:only-of-type {\n",
       "        vertical-align: middle;\n",
       "    }\n",
       "\n",
       "    .dataframe tbody tr th {\n",
       "        vertical-align: top;\n",
       "    }\n",
       "\n",
       "    .dataframe thead th {\n",
       "        text-align: right;\n",
       "    }\n",
       "</style>\n",
       "<table border=\"1\" class=\"dataframe\">\n",
       "  <thead>\n",
       "    <tr style=\"text-align: right;\">\n",
       "      <th></th>\n",
       "      <th>Unnamed: 0</th>\n",
       "      <th>SK_ID_CURR</th>\n",
       "      <th>TARGET</th>\n",
       "      <th>NAME_CONTRACT_TYPE</th>\n",
       "      <th>CODE_GENDER</th>\n",
       "      <th>FLAG_OWN_CAR</th>\n",
       "      <th>FLAG_OWN_REALTY</th>\n",
       "      <th>CNT_CHILDREN</th>\n",
       "      <th>AMT_INCOME_TOTAL</th>\n",
       "      <th>AMT_CREDIT</th>\n",
       "      <th>...</th>\n",
       "      <th>CURRENT_LOAN_LTV</th>\n",
       "      <th>CURRENT_LOAN_INCOME_CREDIT_PERC</th>\n",
       "      <th>CURRENT_LOAN_PAYMENT_RATE</th>\n",
       "      <th>TOTAL_AMT_ANNUITY</th>\n",
       "      <th>TOTAL_AMT_CREDIT</th>\n",
       "      <th>TOTAL_EFFORT_RATE</th>\n",
       "      <th>TOTAL_INCOME_CREDIT_PERC</th>\n",
       "      <th>TOTAL_PAYMENT_RATE</th>\n",
       "      <th>DAYS_EMPLOYED_PERC</th>\n",
       "      <th>INCOME_PER_PERSON</th>\n",
       "    </tr>\n",
       "  </thead>\n",
       "  <tbody>\n",
       "    <tr>\n",
       "      <th>0</th>\n",
       "      <td>0</td>\n",
       "      <td>100002</td>\n",
       "      <td>1</td>\n",
       "      <td>Cash loans</td>\n",
       "      <td>M</td>\n",
       "      <td>N</td>\n",
       "      <td>Y</td>\n",
       "      <td>0</td>\n",
       "      <td>202500.0</td>\n",
       "      <td>406597.5</td>\n",
       "      <td>...</td>\n",
       "      <td>1.158397</td>\n",
       "      <td>0.498036</td>\n",
       "      <td>0.060749</td>\n",
       "      <td>247829.081500</td>\n",
       "      <td>888586.065</td>\n",
       "      <td>1.223847</td>\n",
       "      <td>0.227890</td>\n",
       "      <td>0.278903</td>\n",
       "      <td>0.067329</td>\n",
       "      <td>202500.0</td>\n",
       "    </tr>\n",
       "    <tr>\n",
       "      <th>1</th>\n",
       "      <td>1</td>\n",
       "      <td>100003</td>\n",
       "      <td>0</td>\n",
       "      <td>Cash loans</td>\n",
       "      <td>F</td>\n",
       "      <td>N</td>\n",
       "      <td>N</td>\n",
       "      <td>0</td>\n",
       "      <td>270000.0</td>\n",
       "      <td>1293502.5</td>\n",
       "      <td>...</td>\n",
       "      <td>1.145199</td>\n",
       "      <td>0.208736</td>\n",
       "      <td>0.027598</td>\n",
       "      <td>292122.185803</td>\n",
       "      <td>2103502.500</td>\n",
       "      <td>1.081934</td>\n",
       "      <td>0.128357</td>\n",
       "      <td>0.138874</td>\n",
       "      <td>0.070862</td>\n",
       "      <td>135000.0</td>\n",
       "    </tr>\n",
       "    <tr>\n",
       "      <th>2</th>\n",
       "      <td>2</td>\n",
       "      <td>100004</td>\n",
       "      <td>0</td>\n",
       "      <td>Revolving loans</td>\n",
       "      <td>M</td>\n",
       "      <td>Y</td>\n",
       "      <td>Y</td>\n",
       "      <td>0</td>\n",
       "      <td>67500.0</td>\n",
       "      <td>135000.0</td>\n",
       "      <td>...</td>\n",
       "      <td>1.000000</td>\n",
       "      <td>0.500000</td>\n",
       "      <td>0.050000</td>\n",
       "      <td>NaN</td>\n",
       "      <td>NaN</td>\n",
       "      <td>NaN</td>\n",
       "      <td>NaN</td>\n",
       "      <td>NaN</td>\n",
       "      <td>0.011814</td>\n",
       "      <td>67500.0</td>\n",
       "    </tr>\n",
       "    <tr>\n",
       "      <th>3</th>\n",
       "      <td>3</td>\n",
       "      <td>100006</td>\n",
       "      <td>0</td>\n",
       "      <td>Cash loans</td>\n",
       "      <td>F</td>\n",
       "      <td>N</td>\n",
       "      <td>Y</td>\n",
       "      <td>0</td>\n",
       "      <td>135000.0</td>\n",
       "      <td>312682.5</td>\n",
       "      <td>...</td>\n",
       "      <td>1.052803</td>\n",
       "      <td>0.431748</td>\n",
       "      <td>0.094941</td>\n",
       "      <td>NaN</td>\n",
       "      <td>NaN</td>\n",
       "      <td>NaN</td>\n",
       "      <td>NaN</td>\n",
       "      <td>NaN</td>\n",
       "      <td>0.159905</td>\n",
       "      <td>67500.0</td>\n",
       "    </tr>\n",
       "    <tr>\n",
       "      <th>4</th>\n",
       "      <td>4</td>\n",
       "      <td>100007</td>\n",
       "      <td>0</td>\n",
       "      <td>Cash loans</td>\n",
       "      <td>M</td>\n",
       "      <td>N</td>\n",
       "      <td>Y</td>\n",
       "      <td>0</td>\n",
       "      <td>121500.0</td>\n",
       "      <td>513000.0</td>\n",
       "      <td>...</td>\n",
       "      <td>1.000000</td>\n",
       "      <td>0.236842</td>\n",
       "      <td>0.042623</td>\n",
       "      <td>NaN</td>\n",
       "      <td>NaN</td>\n",
       "      <td>NaN</td>\n",
       "      <td>NaN</td>\n",
       "      <td>NaN</td>\n",
       "      <td>0.152418</td>\n",
       "      <td>121500.0</td>\n",
       "    </tr>\n",
       "  </tbody>\n",
       "</table>\n",
       "<p>5 rows × 402 columns</p>\n",
       "</div>"
      ],
      "text/plain": [
       "   Unnamed: 0  SK_ID_CURR  TARGET NAME_CONTRACT_TYPE CODE_GENDER FLAG_OWN_CAR  \\\n",
       "0           0      100002       1         Cash loans           M            N   \n",
       "1           1      100003       0         Cash loans           F            N   \n",
       "2           2      100004       0    Revolving loans           M            Y   \n",
       "3           3      100006       0         Cash loans           F            N   \n",
       "4           4      100007       0         Cash loans           M            N   \n",
       "\n",
       "  FLAG_OWN_REALTY  CNT_CHILDREN  AMT_INCOME_TOTAL  AMT_CREDIT  ...  \\\n",
       "0               Y             0          202500.0    406597.5  ...   \n",
       "1               N             0          270000.0   1293502.5  ...   \n",
       "2               Y             0           67500.0    135000.0  ...   \n",
       "3               Y             0          135000.0    312682.5  ...   \n",
       "4               Y             0          121500.0    513000.0  ...   \n",
       "\n",
       "   CURRENT_LOAN_LTV  CURRENT_LOAN_INCOME_CREDIT_PERC  \\\n",
       "0          1.158397                         0.498036   \n",
       "1          1.145199                         0.208736   \n",
       "2          1.000000                         0.500000   \n",
       "3          1.052803                         0.431748   \n",
       "4          1.000000                         0.236842   \n",
       "\n",
       "  CURRENT_LOAN_PAYMENT_RATE TOTAL_AMT_ANNUITY TOTAL_AMT_CREDIT  \\\n",
       "0                  0.060749     247829.081500       888586.065   \n",
       "1                  0.027598     292122.185803      2103502.500   \n",
       "2                  0.050000               NaN              NaN   \n",
       "3                  0.094941               NaN              NaN   \n",
       "4                  0.042623               NaN              NaN   \n",
       "\n",
       "  TOTAL_EFFORT_RATE TOTAL_INCOME_CREDIT_PERC  TOTAL_PAYMENT_RATE  \\\n",
       "0          1.223847                 0.227890            0.278903   \n",
       "1          1.081934                 0.128357            0.138874   \n",
       "2               NaN                      NaN                 NaN   \n",
       "3               NaN                      NaN                 NaN   \n",
       "4               NaN                      NaN                 NaN   \n",
       "\n",
       "   DAYS_EMPLOYED_PERC  INCOME_PER_PERSON  \n",
       "0            0.067329           202500.0  \n",
       "1            0.070862           135000.0  \n",
       "2            0.011814            67500.0  \n",
       "3            0.159905            67500.0  \n",
       "4            0.152418           121500.0  \n",
       "\n",
       "[5 rows x 402 columns]"
      ]
     },
     "execution_count": 5,
     "metadata": {},
     "output_type": "execute_result"
    }
   ],
   "source": [
    "data.head()"
   ]
  },
  {
   "cell_type": "code",
   "execution_count": 6,
   "id": "e16ce3c3",
   "metadata": {},
   "outputs": [],
   "source": [
    "data.drop(['Unnamed: 0', 'SK_ID_CURR'], axis=1, inplace=True)"
   ]
  },
  {
   "cell_type": "code",
   "execution_count": 7,
   "id": "c44e65ff",
   "metadata": {},
   "outputs": [],
   "source": [
    "y = data['TARGET']\n",
    "x = data.drop(['TARGET'], axis=1)\n",
    "baseline_y = baseline_data['TARGET']\n",
    "baseline_x = baseline_data.drop(['TARGET'], axis=1) # Note : categorical data already encoded"
   ]
  },
  {
   "cell_type": "code",
   "execution_count": 8,
   "id": "5b893e6d",
   "metadata": {},
   "outputs": [
    {
     "name": "stdout",
     "output_type": "stream",
     "text": [
      "(307507, 399)\n",
      "(307507,)\n"
     ]
    }
   ],
   "source": [
    "print(x.shape)\n",
    "print(y.shape)"
   ]
  },
  {
   "cell_type": "code",
   "execution_count": 9,
   "id": "6b4fa2af",
   "metadata": {},
   "outputs": [
    {
     "data": {
      "text/plain": [
       "0    0.91927\n",
       "1    0.08073\n",
       "Name: TARGET, dtype: float64"
      ]
     },
     "execution_count": 9,
     "metadata": {},
     "output_type": "execute_result"
    }
   ],
   "source": [
    "# Look targets breakdown\n",
    "y.value_counts().apply(lambda x: x / y.count())"
   ]
  },
  {
   "cell_type": "markdown",
   "id": "c939e334",
   "metadata": {},
   "source": [
    "We have very imbalanced classes, we will use StratifiedKFold for now. And see for SMOTE after"
   ]
  },
  {
   "cell_type": "markdown",
   "id": "3d2557b7",
   "metadata": {},
   "source": [
    "# 3. Preprocessing <a class=\"anchor\" id=\"3-bullet\"></a>"
   ]
  },
  {
   "cell_type": "markdown",
   "id": "6783be02",
   "metadata": {},
   "source": [
    "## I - Cleaning <a class=\"anchor\" id=\"4-bullet\"></a>"
   ]
  },
  {
   "cell_type": "code",
   "execution_count": 10,
   "id": "50247db0",
   "metadata": {},
   "outputs": [
    {
     "data": {
      "text/html": [
       "<div>\n",
       "<style scoped>\n",
       "    .dataframe tbody tr th:only-of-type {\n",
       "        vertical-align: middle;\n",
       "    }\n",
       "\n",
       "    .dataframe tbody tr th {\n",
       "        vertical-align: top;\n",
       "    }\n",
       "\n",
       "    .dataframe thead th {\n",
       "        text-align: right;\n",
       "    }\n",
       "</style>\n",
       "<table border=\"1\" class=\"dataframe\">\n",
       "  <thead>\n",
       "    <tr style=\"text-align: right;\">\n",
       "      <th></th>\n",
       "      <th>CNT_CHILDREN</th>\n",
       "      <th>AMT_INCOME_TOTAL</th>\n",
       "      <th>AMT_CREDIT</th>\n",
       "      <th>AMT_ANNUITY</th>\n",
       "      <th>AMT_GOODS_PRICE</th>\n",
       "      <th>REGION_POPULATION_RELATIVE</th>\n",
       "      <th>DAYS_BIRTH</th>\n",
       "      <th>DAYS_EMPLOYED</th>\n",
       "      <th>DAYS_REGISTRATION</th>\n",
       "      <th>DAYS_ID_PUBLISH</th>\n",
       "      <th>...</th>\n",
       "      <th>CURRENT_LOAN_LTV</th>\n",
       "      <th>CURRENT_LOAN_INCOME_CREDIT_PERC</th>\n",
       "      <th>CURRENT_LOAN_PAYMENT_RATE</th>\n",
       "      <th>TOTAL_AMT_ANNUITY</th>\n",
       "      <th>TOTAL_AMT_CREDIT</th>\n",
       "      <th>TOTAL_EFFORT_RATE</th>\n",
       "      <th>TOTAL_INCOME_CREDIT_PERC</th>\n",
       "      <th>TOTAL_PAYMENT_RATE</th>\n",
       "      <th>DAYS_EMPLOYED_PERC</th>\n",
       "      <th>INCOME_PER_PERSON</th>\n",
       "    </tr>\n",
       "  </thead>\n",
       "  <tbody>\n",
       "    <tr>\n",
       "      <th>count</th>\n",
       "      <td>307507.000000</td>\n",
       "      <td>3.075070e+05</td>\n",
       "      <td>3.075070e+05</td>\n",
       "      <td>307495.000000</td>\n",
       "      <td>3.072290e+05</td>\n",
       "      <td>307507.000000</td>\n",
       "      <td>307507.000000</td>\n",
       "      <td>252133.000000</td>\n",
       "      <td>307507.000000</td>\n",
       "      <td>307507.000000</td>\n",
       "      <td>...</td>\n",
       "      <td>307229.000000</td>\n",
       "      <td>307507.000000</td>\n",
       "      <td>307495.000000</td>\n",
       "      <td>2.163040e+05</td>\n",
       "      <td>2.163140e+05</td>\n",
       "      <td>216304.000000</td>\n",
       "      <td>216314.000000</td>\n",
       "      <td>216304.000000</td>\n",
       "      <td>252133.000000</td>\n",
       "      <td>3.075050e+05</td>\n",
       "    </tr>\n",
       "    <tr>\n",
       "      <th>mean</th>\n",
       "      <td>0.417047</td>\n",
       "      <td>1.687977e+05</td>\n",
       "      <td>5.990286e+05</td>\n",
       "      <td>27108.666786</td>\n",
       "      <td>5.383977e+05</td>\n",
       "      <td>0.020868</td>\n",
       "      <td>-16037.027271</td>\n",
       "      <td>-2384.142254</td>\n",
       "      <td>-4986.131376</td>\n",
       "      <td>-2994.201670</td>\n",
       "      <td>...</td>\n",
       "      <td>1.122994</td>\n",
       "      <td>0.399669</td>\n",
       "      <td>0.053695</td>\n",
       "      <td>9.411559e+05</td>\n",
       "      <td>1.926691e+06</td>\n",
       "      <td>5.708165</td>\n",
       "      <td>0.154313</td>\n",
       "      <td>0.609689</td>\n",
       "      <td>0.156860</td>\n",
       "      <td>9.310608e+04</td>\n",
       "    </tr>\n",
       "    <tr>\n",
       "      <th>std</th>\n",
       "      <td>0.722119</td>\n",
       "      <td>2.371246e+05</td>\n",
       "      <td>4.024926e+05</td>\n",
       "      <td>14493.798379</td>\n",
       "      <td>3.694472e+05</td>\n",
       "      <td>0.013831</td>\n",
       "      <td>4363.982424</td>\n",
       "      <td>2338.327666</td>\n",
       "      <td>3522.883030</td>\n",
       "      <td>1509.454566</td>\n",
       "      <td>...</td>\n",
       "      <td>0.124036</td>\n",
       "      <td>0.507927</td>\n",
       "      <td>0.022481</td>\n",
       "      <td>5.921754e+06</td>\n",
       "      <td>2.459518e+06</td>\n",
       "      <td>33.373152</td>\n",
       "      <td>0.246091</td>\n",
       "      <td>3.542178</td>\n",
       "      <td>0.133548</td>\n",
       "      <td>1.013739e+05</td>\n",
       "    </tr>\n",
       "    <tr>\n",
       "      <th>min</th>\n",
       "      <td>0.000000</td>\n",
       "      <td>2.565000e+04</td>\n",
       "      <td>4.500000e+04</td>\n",
       "      <td>1615.500000</td>\n",
       "      <td>4.050000e+04</td>\n",
       "      <td>0.000290</td>\n",
       "      <td>-25229.000000</td>\n",
       "      <td>-17912.000000</td>\n",
       "      <td>-24672.000000</td>\n",
       "      <td>-7197.000000</td>\n",
       "      <td>...</td>\n",
       "      <td>0.150000</td>\n",
       "      <td>0.011801</td>\n",
       "      <td>0.022073</td>\n",
       "      <td>3.006000e+03</td>\n",
       "      <td>4.500000e+04</td>\n",
       "      <td>0.003830</td>\n",
       "      <td>0.000603</td>\n",
       "      <td>0.001404</td>\n",
       "      <td>-0.000000</td>\n",
       "      <td>2.812500e+03</td>\n",
       "    </tr>\n",
       "    <tr>\n",
       "      <th>25%</th>\n",
       "      <td>0.000000</td>\n",
       "      <td>1.125000e+05</td>\n",
       "      <td>2.700000e+05</td>\n",
       "      <td>16524.000000</td>\n",
       "      <td>2.385000e+05</td>\n",
       "      <td>0.010006</td>\n",
       "      <td>-19682.000000</td>\n",
       "      <td>-3175.000000</td>\n",
       "      <td>-7479.500000</td>\n",
       "      <td>-4299.000000</td>\n",
       "      <td>...</td>\n",
       "      <td>1.000000</td>\n",
       "      <td>0.193802</td>\n",
       "      <td>0.036900</td>\n",
       "      <td>9.718556e+04</td>\n",
       "      <td>7.524000e+05</td>\n",
       "      <td>0.640621</td>\n",
       "      <td>0.072865</td>\n",
       "      <td>0.093214</td>\n",
       "      <td>0.056098</td>\n",
       "      <td>4.725000e+04</td>\n",
       "    </tr>\n",
       "    <tr>\n",
       "      <th>50%</th>\n",
       "      <td>0.000000</td>\n",
       "      <td>1.471500e+05</td>\n",
       "      <td>5.135310e+05</td>\n",
       "      <td>24903.000000</td>\n",
       "      <td>4.500000e+05</td>\n",
       "      <td>0.018850</td>\n",
       "      <td>-15750.000000</td>\n",
       "      <td>-1648.000000</td>\n",
       "      <td>-4504.000000</td>\n",
       "      <td>-3254.000000</td>\n",
       "      <td>...</td>\n",
       "      <td>1.118800</td>\n",
       "      <td>0.306272</td>\n",
       "      <td>0.050000</td>\n",
       "      <td>3.004183e+05</td>\n",
       "      <td>1.305000e+06</td>\n",
       "      <td>2.029257</td>\n",
       "      <td>0.116145</td>\n",
       "      <td>0.211615</td>\n",
       "      <td>0.118733</td>\n",
       "      <td>7.500000e+04</td>\n",
       "    </tr>\n",
       "    <tr>\n",
       "      <th>75%</th>\n",
       "      <td>1.000000</td>\n",
       "      <td>2.025000e+05</td>\n",
       "      <td>8.086500e+05</td>\n",
       "      <td>34596.000000</td>\n",
       "      <td>6.795000e+05</td>\n",
       "      <td>0.028663</td>\n",
       "      <td>-12413.000000</td>\n",
       "      <td>-767.000000</td>\n",
       "      <td>-2010.000000</td>\n",
       "      <td>-1720.000000</td>\n",
       "      <td>...</td>\n",
       "      <td>1.198000</td>\n",
       "      <td>0.495376</td>\n",
       "      <td>0.064043</td>\n",
       "      <td>7.142913e+05</td>\n",
       "      <td>2.254457e+06</td>\n",
       "      <td>4.373481</td>\n",
       "      <td>0.189675</td>\n",
       "      <td>0.395364</td>\n",
       "      <td>0.219167</td>\n",
       "      <td>1.125000e+05</td>\n",
       "    </tr>\n",
       "    <tr>\n",
       "      <th>max</th>\n",
       "      <td>19.000000</td>\n",
       "      <td>1.170000e+08</td>\n",
       "      <td>4.050000e+06</td>\n",
       "      <td>258025.500000</td>\n",
       "      <td>4.050000e+06</td>\n",
       "      <td>0.072508</td>\n",
       "      <td>-7489.000000</td>\n",
       "      <td>0.000000</td>\n",
       "      <td>0.000000</td>\n",
       "      <td>0.000000</td>\n",
       "      <td>...</td>\n",
       "      <td>6.000000</td>\n",
       "      <td>208.003328</td>\n",
       "      <td>0.124430</td>\n",
       "      <td>6.802079e+08</td>\n",
       "      <td>3.356847e+08</td>\n",
       "      <td>3702.839475</td>\n",
       "      <td>95.097017</td>\n",
       "      <td>264.392053</td>\n",
       "      <td>0.728811</td>\n",
       "      <td>3.900000e+07</td>\n",
       "    </tr>\n",
       "  </tbody>\n",
       "</table>\n",
       "<p>8 rows × 362 columns</p>\n",
       "</div>"
      ],
      "text/plain": [
       "        CNT_CHILDREN  AMT_INCOME_TOTAL    AMT_CREDIT    AMT_ANNUITY  \\\n",
       "count  307507.000000      3.075070e+05  3.075070e+05  307495.000000   \n",
       "mean        0.417047      1.687977e+05  5.990286e+05   27108.666786   \n",
       "std         0.722119      2.371246e+05  4.024926e+05   14493.798379   \n",
       "min         0.000000      2.565000e+04  4.500000e+04    1615.500000   \n",
       "25%         0.000000      1.125000e+05  2.700000e+05   16524.000000   \n",
       "50%         0.000000      1.471500e+05  5.135310e+05   24903.000000   \n",
       "75%         1.000000      2.025000e+05  8.086500e+05   34596.000000   \n",
       "max        19.000000      1.170000e+08  4.050000e+06  258025.500000   \n",
       "\n",
       "       AMT_GOODS_PRICE  REGION_POPULATION_RELATIVE     DAYS_BIRTH  \\\n",
       "count     3.072290e+05               307507.000000  307507.000000   \n",
       "mean      5.383977e+05                    0.020868  -16037.027271   \n",
       "std       3.694472e+05                    0.013831    4363.982424   \n",
       "min       4.050000e+04                    0.000290  -25229.000000   \n",
       "25%       2.385000e+05                    0.010006  -19682.000000   \n",
       "50%       4.500000e+05                    0.018850  -15750.000000   \n",
       "75%       6.795000e+05                    0.028663  -12413.000000   \n",
       "max       4.050000e+06                    0.072508   -7489.000000   \n",
       "\n",
       "       DAYS_EMPLOYED  DAYS_REGISTRATION  DAYS_ID_PUBLISH  ...  \\\n",
       "count  252133.000000      307507.000000    307507.000000  ...   \n",
       "mean    -2384.142254       -4986.131376     -2994.201670  ...   \n",
       "std      2338.327666        3522.883030      1509.454566  ...   \n",
       "min    -17912.000000      -24672.000000     -7197.000000  ...   \n",
       "25%     -3175.000000       -7479.500000     -4299.000000  ...   \n",
       "50%     -1648.000000       -4504.000000     -3254.000000  ...   \n",
       "75%      -767.000000       -2010.000000     -1720.000000  ...   \n",
       "max         0.000000           0.000000         0.000000  ...   \n",
       "\n",
       "       CURRENT_LOAN_LTV  CURRENT_LOAN_INCOME_CREDIT_PERC  \\\n",
       "count     307229.000000                    307507.000000   \n",
       "mean           1.122994                         0.399669   \n",
       "std            0.124036                         0.507927   \n",
       "min            0.150000                         0.011801   \n",
       "25%            1.000000                         0.193802   \n",
       "50%            1.118800                         0.306272   \n",
       "75%            1.198000                         0.495376   \n",
       "max            6.000000                       208.003328   \n",
       "\n",
       "       CURRENT_LOAN_PAYMENT_RATE  TOTAL_AMT_ANNUITY  TOTAL_AMT_CREDIT  \\\n",
       "count              307495.000000       2.163040e+05      2.163140e+05   \n",
       "mean                    0.053695       9.411559e+05      1.926691e+06   \n",
       "std                     0.022481       5.921754e+06      2.459518e+06   \n",
       "min                     0.022073       3.006000e+03      4.500000e+04   \n",
       "25%                     0.036900       9.718556e+04      7.524000e+05   \n",
       "50%                     0.050000       3.004183e+05      1.305000e+06   \n",
       "75%                     0.064043       7.142913e+05      2.254457e+06   \n",
       "max                     0.124430       6.802079e+08      3.356847e+08   \n",
       "\n",
       "       TOTAL_EFFORT_RATE  TOTAL_INCOME_CREDIT_PERC  TOTAL_PAYMENT_RATE  \\\n",
       "count      216304.000000             216314.000000       216304.000000   \n",
       "mean            5.708165                  0.154313            0.609689   \n",
       "std            33.373152                  0.246091            3.542178   \n",
       "min             0.003830                  0.000603            0.001404   \n",
       "25%             0.640621                  0.072865            0.093214   \n",
       "50%             2.029257                  0.116145            0.211615   \n",
       "75%             4.373481                  0.189675            0.395364   \n",
       "max          3702.839475                 95.097017          264.392053   \n",
       "\n",
       "       DAYS_EMPLOYED_PERC  INCOME_PER_PERSON  \n",
       "count       252133.000000       3.075050e+05  \n",
       "mean             0.156860       9.310608e+04  \n",
       "std              0.133548       1.013739e+05  \n",
       "min             -0.000000       2.812500e+03  \n",
       "25%              0.056098       4.725000e+04  \n",
       "50%              0.118733       7.500000e+04  \n",
       "75%              0.219167       1.125000e+05  \n",
       "max              0.728811       3.900000e+07  \n",
       "\n",
       "[8 rows x 362 columns]"
      ]
     },
     "execution_count": 10,
     "metadata": {},
     "output_type": "execute_result"
    }
   ],
   "source": [
    "x.describe()"
   ]
  },
  {
   "cell_type": "code",
   "execution_count": 11,
   "id": "d5d1440c",
   "metadata": {},
   "outputs": [],
   "source": [
    "# Defining numerical and categorical columns\n",
    "categorical_cols = [col for col in x.columns if x[col].dtype == 'object']\n",
    "numerical_cols = list(x.drop(categorical_cols, axis=1).columns)"
   ]
  },
  {
   "cell_type": "code",
   "execution_count": 12,
   "id": "4507f1ac",
   "metadata": {},
   "outputs": [
    {
     "name": "stdout",
     "output_type": "stream",
     "text": [
      "The df contains 8877 infinite values\n"
     ]
    }
   ],
   "source": [
    "# Checking infinite values\n",
    "  \n",
    "count = np.isinf(x[numerical_cols]).values.sum()\n",
    "print(\"The df contains \" + str(count) + \" infinite values\")"
   ]
  },
  {
   "cell_type": "code",
   "execution_count": 13,
   "id": "66d45e4a",
   "metadata": {},
   "outputs": [],
   "source": [
    "# We replace inf values by NaN\n",
    "x.replace([np.inf, -np.inf], np.nan, inplace=True)"
   ]
  },
  {
   "cell_type": "markdown",
   "id": "3ec914f7",
   "metadata": {},
   "source": [
    "## II - Split train/test and preprocessing <a class=\"anchor\" id=\"5-bullet\"></a>"
   ]
  },
  {
   "cell_type": "code",
   "execution_count": 14,
   "id": "60cf4e9f",
   "metadata": {},
   "outputs": [],
   "source": [
    "# Split between train and test set\n",
    "x_train, x_test, y_train, y_test = train_test_split(x, y, train_size=0.8, random_state=random_state)"
   ]
  },
  {
   "cell_type": "code",
   "execution_count": 15,
   "id": "5f848ef7",
   "metadata": {},
   "outputs": [],
   "source": [
    "# Definition of preprocessing steps\n",
    "\n",
    "# Preprocessing for numerical data\n",
    "numerical_transformer = Pipeline(steps=[\n",
    "    ('imputer', SimpleImputer(strategy='mean')),\n",
    "    ('stdscaler', StandardScaler())\n",
    "])\n",
    "\n",
    "# Preprocessing for categorical data\n",
    "categorical_transformer = Pipeline(steps=[\n",
    "    ('imputer', SimpleImputer(strategy='most_frequent')),\n",
    "    ('onehot', OneHotEncoder(handle_unknown='ignore'))\n",
    "])\n",
    "\n",
    "# Bundle preprocessing for numerical and categorical data\n",
    "preprocessor = ColumnTransformer(\n",
    "    transformers=[\n",
    "        ('num', numerical_transformer, numerical_cols),\n",
    "        ('cat', categorical_transformer, categorical_cols)\n",
    "    ])"
   ]
  },
  {
   "cell_type": "code",
   "execution_count": 16,
   "id": "3974310b",
   "metadata": {},
   "outputs": [],
   "source": [
    "# Preprocess datas\n",
    "x_train_processed = preprocessor.fit_transform(x_train)\n",
    "x_test_processed = preprocessor.transform(x_test)"
   ]
  },
  {
   "cell_type": "markdown",
   "id": "19248894",
   "metadata": {},
   "source": [
    "## III - Dimensionality reduction <a class=\"anchor\" id=\"6-bullet\"></a>"
   ]
  },
  {
   "cell_type": "markdown",
   "id": "d4f888f4",
   "metadata": {},
   "source": [
    "To speed up our algorithms on our model selection, we will reduce the dimensionality of our dataset "
   ]
  },
  {
   "cell_type": "code",
   "execution_count": 17,
   "id": "95f76a8c",
   "metadata": {},
   "outputs": [
    {
     "name": "stdout",
     "output_type": "stream",
     "text": [
      "Dimensions x_train before PCA reduction :  (246005, 670)\n",
      "Dimensions x_test before PCA reduction :  (61502, 670)\n",
      "\n",
      "Proceed PCA on train and test set - done in 24s\n",
      "Dimensions x_train after PCA reduction :  (246005, 289)\n",
      "Dimensions x_test after PCA reduction :  (61502, 284)\n"
     ]
    }
   ],
   "source": [
    "# PCA on processed data\n",
    "\n",
    "print(\"Dimensions x_train before PCA reduction : \", x_train_processed.shape)\n",
    "print(\"Dimensions x_test before PCA reduction : \", x_test_processed.shape)\n",
    "pca = decomposition.PCA(n_components=0.99)\n",
    "\n",
    "print(\"\")\n",
    "with timer(\"Proceed PCA on train and test set\"):\n",
    "    x_train_pca = pca.fit_transform(x_train_processed)\n",
    "    x_test_pca = pca.fit_transform(x_test_processed)\n",
    "\n",
    "print(\"Dimensions x_train after PCA reduction : \", x_train_pca.shape)\n",
    "print(\"Dimensions x_test after PCA reduction : \", x_test_pca.shape)"
   ]
  },
  {
   "cell_type": "markdown",
   "id": "242a90f3",
   "metadata": {},
   "source": [
    "## VI - Creation of folds for cv <a class=\"anchor\" id=\"7-bullet\"></a>"
   ]
  },
  {
   "cell_type": "code",
   "execution_count": 18,
   "id": "2e115369",
   "metadata": {},
   "outputs": [],
   "source": [
    "folds = create_folds(x_train_pca, y_train, num_folds=num_folds, stratified=True, random_state=random_state)"
   ]
  },
  {
   "cell_type": "markdown",
   "id": "71f302d2",
   "metadata": {},
   "source": [
    "# 4. Model testing <a class=\"anchor\" id=\"8-bullet\"></a>"
   ]
  },
  {
   "cell_type": "markdown",
   "id": "d683b5ff",
   "metadata": {},
   "source": [
    "## I - Dummy classifiers <a class=\"anchor\" id=\"9-bullet\"></a>"
   ]
  },
  {
   "cell_type": "code",
   "execution_count": 19,
   "id": "e841d3f4",
   "metadata": {},
   "outputs": [
    {
     "name": "stderr",
     "output_type": "stream",
     "text": [
      "C:\\Users\\robin\\anaconda3\\lib\\site-packages\\sklearn\\metrics\\_classification.py:1318: UndefinedMetricWarning: Precision is ill-defined and being set to 0.0 due to no predicted samples. Use `zero_division` parameter to control this behavior.\n",
      "  _warn_prf(average, modifier, msg_start, len(result))\n",
      "C:\\Users\\robin\\anaconda3\\lib\\site-packages\\sklearn\\metrics\\_classification.py:1318: UndefinedMetricWarning: Precision is ill-defined and being set to 0.0 due to no predicted samples. Use `zero_division` parameter to control this behavior.\n",
      "  _warn_prf(average, modifier, msg_start, len(result))\n",
      "C:\\Users\\robin\\anaconda3\\lib\\site-packages\\sklearn\\metrics\\_classification.py:1318: UndefinedMetricWarning: Precision is ill-defined and being set to 0.0 due to no predicted samples. Use `zero_division` parameter to control this behavior.\n",
      "  _warn_prf(average, modifier, msg_start, len(result))\n"
     ]
    },
    {
     "data": {
      "text/html": [
       "<div>\n",
       "<style scoped>\n",
       "    .dataframe tbody tr th:only-of-type {\n",
       "        vertical-align: middle;\n",
       "    }\n",
       "\n",
       "    .dataframe tbody tr th {\n",
       "        vertical-align: top;\n",
       "    }\n",
       "\n",
       "    .dataframe thead th {\n",
       "        text-align: right;\n",
       "    }\n",
       "</style>\n",
       "<table border=\"1\" class=\"dataframe\">\n",
       "  <thead>\n",
       "    <tr style=\"text-align: right;\">\n",
       "      <th></th>\n",
       "      <th>most_frequent</th>\n",
       "      <th>prior</th>\n",
       "      <th>stratified</th>\n",
       "      <th>uniform</th>\n",
       "      <th>constant</th>\n",
       "    </tr>\n",
       "  </thead>\n",
       "  <tbody>\n",
       "    <tr>\n",
       "      <th>accuracy</th>\n",
       "      <td>0.919270</td>\n",
       "      <td>0.919270</td>\n",
       "      <td>0.852345</td>\n",
       "      <td>0.500398</td>\n",
       "      <td>0.919270</td>\n",
       "    </tr>\n",
       "    <tr>\n",
       "      <th>f1</th>\n",
       "      <td>0.000000</td>\n",
       "      <td>0.000000</td>\n",
       "      <td>0.080629</td>\n",
       "      <td>0.139867</td>\n",
       "      <td>0.000000</td>\n",
       "    </tr>\n",
       "    <tr>\n",
       "      <th>precision</th>\n",
       "      <td>0.000000</td>\n",
       "      <td>0.000000</td>\n",
       "      <td>0.081060</td>\n",
       "      <td>0.081222</td>\n",
       "      <td>0.000000</td>\n",
       "    </tr>\n",
       "    <tr>\n",
       "      <th>recall</th>\n",
       "      <td>0.000000</td>\n",
       "      <td>0.000000</td>\n",
       "      <td>0.080201</td>\n",
       "      <td>0.503162</td>\n",
       "      <td>0.000000</td>\n",
       "    </tr>\n",
       "    <tr>\n",
       "      <th>roc_auc</th>\n",
       "      <td>0.500000</td>\n",
       "      <td>0.500000</td>\n",
       "      <td>0.500178</td>\n",
       "      <td>0.500000</td>\n",
       "      <td>0.500000</td>\n",
       "    </tr>\n",
       "    <tr>\n",
       "      <th>cross_entropy</th>\n",
       "      <td>2.788311</td>\n",
       "      <td>2.788311</td>\n",
       "      <td>5.099888</td>\n",
       "      <td>17.255997</td>\n",
       "      <td>2.788311</td>\n",
       "    </tr>\n",
       "    <tr>\n",
       "      <th>fit_time</th>\n",
       "      <td>0.031356</td>\n",
       "      <td>0.013620</td>\n",
       "      <td>0.016092</td>\n",
       "      <td>0.012056</td>\n",
       "      <td>0.013378</td>\n",
       "    </tr>\n",
       "    <tr>\n",
       "      <th>predict_time</th>\n",
       "      <td>0.003092</td>\n",
       "      <td>0.002458</td>\n",
       "      <td>0.015548</td>\n",
       "      <td>0.007068</td>\n",
       "      <td>0.002066</td>\n",
       "    </tr>\n",
       "  </tbody>\n",
       "</table>\n",
       "</div>"
      ],
      "text/plain": [
       "               most_frequent     prior  stratified    uniform  constant\n",
       "accuracy            0.919270  0.919270    0.852345   0.500398  0.919270\n",
       "f1                  0.000000  0.000000    0.080629   0.139867  0.000000\n",
       "precision           0.000000  0.000000    0.081060   0.081222  0.000000\n",
       "recall              0.000000  0.000000    0.080201   0.503162  0.000000\n",
       "roc_auc             0.500000  0.500000    0.500178   0.500000  0.500000\n",
       "cross_entropy       2.788311  2.788311    5.099888  17.255997  2.788311\n",
       "fit_time            0.031356  0.013620    0.016092   0.012056  0.013378\n",
       "predict_time        0.003092  0.002458    0.015548   0.007068  0.002066"
      ]
     },
     "execution_count": 19,
     "metadata": {},
     "output_type": "execute_result"
    }
   ],
   "source": [
    "dummies = test_dummy_classifiers(x, y, strategies_list=None, random_state=random_state, constant=0)\n",
    "dummies"
   ]
  },
  {
   "cell_type": "code",
   "execution_count": 20,
   "id": "9fcc7d87",
   "metadata": {},
   "outputs": [
    {
     "name": "stdout",
     "output_type": "stream",
     "text": [
      "Average roc_auc : 0.500036\n"
     ]
    }
   ],
   "source": [
    "print(\"Average roc_auc : {:.6f}\".format(dummies.iloc[4].mean()))"
   ]
  },
  {
   "cell_type": "markdown",
   "id": "12559819",
   "metadata": {},
   "source": [
    "## II - Quick testing <a class=\"anchor\" id=\"15-bullet\"></a>"
   ]
  },
  {
   "cell_type": "code",
   "execution_count": 23,
   "id": "ade35fb7",
   "metadata": {},
   "outputs": [
    {
     "name": "stdout",
     "output_type": "stream",
     "text": [
      "Quick test of some classifiers - done in 4449s\n"
     ]
    },
    {
     "data": {
      "text/html": [
       "<div>\n",
       "<style scoped>\n",
       "    .dataframe tbody tr th:only-of-type {\n",
       "        vertical-align: middle;\n",
       "    }\n",
       "\n",
       "    .dataframe tbody tr th {\n",
       "        vertical-align: top;\n",
       "    }\n",
       "\n",
       "    .dataframe thead th {\n",
       "        text-align: right;\n",
       "    }\n",
       "</style>\n",
       "<table border=\"1\" class=\"dataframe\">\n",
       "  <thead>\n",
       "    <tr style=\"text-align: right;\">\n",
       "      <th></th>\n",
       "      <th>KNeighborsClassifier</th>\n",
       "      <th>LogisticRegression</th>\n",
       "      <th>RidgeClassifier</th>\n",
       "    </tr>\n",
       "  </thead>\n",
       "  <tbody>\n",
       "    <tr>\n",
       "      <th>accuracy</th>\n",
       "      <td>0.923453</td>\n",
       "      <td>0.919640</td>\n",
       "      <td>0.919331</td>\n",
       "    </tr>\n",
       "    <tr>\n",
       "      <th>f1</th>\n",
       "      <td>0.157939</td>\n",
       "      <td>0.055335</td>\n",
       "      <td>0.000705</td>\n",
       "    </tr>\n",
       "    <tr>\n",
       "      <th>precision</th>\n",
       "      <td>0.699406</td>\n",
       "      <td>0.531680</td>\n",
       "      <td>0.333333</td>\n",
       "    </tr>\n",
       "    <tr>\n",
       "      <th>recall</th>\n",
       "      <td>0.089021</td>\n",
       "      <td>0.029186</td>\n",
       "      <td>0.000353</td>\n",
       "    </tr>\n",
       "    <tr>\n",
       "      <th>roc_auc</th>\n",
       "      <td>0.906119</td>\n",
       "      <td>0.772575</td>\n",
       "      <td>0.769695</td>\n",
       "    </tr>\n",
       "    <tr>\n",
       "      <th>cross_entropy</th>\n",
       "      <td>2.643850</td>\n",
       "      <td>2.775543</td>\n",
       "      <td>2.786212</td>\n",
       "    </tr>\n",
       "    <tr>\n",
       "      <th>fit_time</th>\n",
       "      <td>0.271580</td>\n",
       "      <td>239.291882</td>\n",
       "      <td>1.423131</td>\n",
       "    </tr>\n",
       "    <tr>\n",
       "      <th>predict_time</th>\n",
       "      <td>1814.589553</td>\n",
       "      <td>0.139057</td>\n",
       "      <td>0.125254</td>\n",
       "    </tr>\n",
       "  </tbody>\n",
       "</table>\n",
       "</div>"
      ],
      "text/plain": [
       "               KNeighborsClassifier  LogisticRegression  RidgeClassifier\n",
       "accuracy                   0.923453            0.919640         0.919331\n",
       "f1                         0.157939            0.055335         0.000705\n",
       "precision                  0.699406            0.531680         0.333333\n",
       "recall                     0.089021            0.029186         0.000353\n",
       "roc_auc                    0.906119            0.772575         0.769695\n",
       "cross_entropy              2.643850            2.775543         2.786212\n",
       "fit_time                   0.271580          239.291882         1.423131\n",
       "predict_time            1814.589553            0.139057         0.125254"
      ]
     },
     "execution_count": 23,
     "metadata": {},
     "output_type": "execute_result"
    }
   ],
   "source": [
    "# Test some models without hyperparameters optimization\n",
    "\n",
    "models_list = [\n",
    "    # 'GradientBoostingClassifier', \n",
    "    # 'RandomForestClassifier', \n",
    "    'KNeighborsClassifier',\n",
    "    # 'GaussianProcessClassifier', \n",
    "    'LogisticRegression', \n",
    "    'RidgeClassifier', \n",
    "    # 'SGDClassifier',\n",
    "    # 'LinearSVC', \n",
    "    # 'NuSVC', \n",
    "    ## 'SVC', \n",
    "    ## 'DecisionTreeClassifier'\n",
    "]\n",
    "\n",
    "with timer(\"Quick test of some classifiers\"):\n",
    "    quick_test_1 = quick_classifiers_test(x_train_pca, y_train, \n",
    "                                          models_list=models_list, random_state=random_state, max_iter=10000, n_jobs=-1)\n",
    "\n",
    "quick_test_1"
   ]
  },
  {
   "cell_type": "code",
   "execution_count": 24,
   "id": "3e18e4d1",
   "metadata": {},
   "outputs": [
    {
     "name": "stdout",
     "output_type": "stream",
     "text": [
      "Average roc_auc : 0.816129\n"
     ]
    }
   ],
   "source": [
    "print(\"Average roc_auc : {:.6f}\".format(quick_test_1.iloc[4].mean()))"
   ]
  },
  {
   "cell_type": "markdown",
   "id": "5adb689f",
   "metadata": {},
   "source": [
    "## III - Linear models <a class=\"anchor\" id=\"10-bullet\"></a>"
   ]
  },
  {
   "cell_type": "code",
   "execution_count": 19,
   "id": "9935415b",
   "metadata": {},
   "outputs": [
    {
     "name": "stdout",
     "output_type": "stream",
     "text": [
      "Fitting 5 folds for each of 4 candidates, totalling 20 fits\n",
      "Best parameters on training set :\n",
      "{'C': 0.1}\n",
      "Best score on training set : 0.769\n",
      "Proceed LogisticRegression - done in 98s\n"
     ]
    }
   ],
   "source": [
    "# LogisticRegression\n",
    "\n",
    "model = LogisticRegression(random_state=random_state, max_iter=10000)\n",
    "param_grid = {'C' : np.linspace(0.1, 1, num=4)}\n",
    "\n",
    "with timer(\"Proceed LogisticRegression\"):\n",
    "    LogisticRegression_clf = run_GridSearchCV(model, x_train_pca, y_train, folds, param_grid, optimized_metric)"
   ]
  },
  {
   "cell_type": "code",
   "execution_count": 20,
   "id": "64ff2038",
   "metadata": {},
   "outputs": [
    {
     "name": "stdout",
     "output_type": "stream",
     "text": [
      "Fitting 5 folds for each of 4 candidates, totalling 20 fits\n",
      "Best parameters on training set :\n",
      "{'alpha': 10}\n",
      "Best score on training set : 0.766\n",
      "Proceed RidgeClassifier - done in 16s\n"
     ]
    }
   ],
   "source": [
    "# RidgeClassifier\n",
    "\n",
    "model = RidgeClassifier(random_state=random_state, max_iter=10000)\n",
    "param_grid = {'alpha' : np.linspace(1, 10, num=4, dtype=int)}\n",
    "\n",
    "with timer(\"Proceed RidgeClassifier\"):\n",
    "    RidgeClassifier_clf = run_GridSearchCV(model, x_train_pca, y_train, folds, param_grid, optimized_metric)"
   ]
  },
  {
   "cell_type": "markdown",
   "id": "dea998dd",
   "metadata": {},
   "source": [
    "## IV - KNN <a class=\"anchor\" id=\"11-bullet\"></a>"
   ]
  },
  {
   "cell_type": "code",
   "execution_count": 21,
   "id": "458a7aaa",
   "metadata": {},
   "outputs": [
    {
     "name": "stdout",
     "output_type": "stream",
     "text": [
      "Fitting 5 folds for each of 4 candidates, totalling 20 fits\n",
      "Best parameters on training set :\n",
      "{'n_neighbors': 10}\n",
      "Best score on training set : 0.609\n",
      "Proceed KNeighborsClassifier - done in 1758s\n"
     ]
    }
   ],
   "source": [
    "# KNeighborsClassifier\n",
    "\n",
    "model = KNeighborsClassifier()\n",
    "param_grid = {'n_neighbors' : np.linspace(3, 10, num=4, dtype=int)}\n",
    "\n",
    "with timer(\"Proceed KNeighborsClassifier\"):\n",
    "    KNeighborsClassifier_clf = run_GridSearchCV(model, x_train_pca, y_train, folds, param_grid, optimized_metric)"
   ]
  },
  {
   "cell_type": "markdown",
   "id": "64066bde",
   "metadata": {},
   "source": [
    "## V - SVM <a class=\"anchor\" id=\"12-bullet\"></a>"
   ]
  },
  {
   "cell_type": "code",
   "execution_count": 22,
   "id": "0c37646e",
   "metadata": {},
   "outputs": [
    {
     "name": "stdout",
     "output_type": "stream",
     "text": [
      "Fitting 5 folds for each of 8 candidates, totalling 40 fits\n"
     ]
    },
    {
     "name": "stderr",
     "output_type": "stream",
     "text": [
      "C:\\Users\\robin\\anaconda3\\lib\\site-packages\\sklearn\\model_selection\\_validation.py:372: FitFailedWarning: \n",
      "20 fits failed out of a total of 40.\n",
      "The score on these train-test partitions for these parameters will be set to nan.\n",
      "If these failures are not expected, you can try to debug them by setting error_score='raise'.\n",
      "\n",
      "Below are more details about the failures:\n",
      "--------------------------------------------------------------------------------\n",
      "20 fits failed with the following error:\n",
      "Traceback (most recent call last):\n",
      "  File \"C:\\Users\\robin\\anaconda3\\lib\\site-packages\\sklearn\\model_selection\\_validation.py\", line 680, in _fit_and_score\n",
      "    estimator.fit(X_train, y_train, **fit_params)\n",
      "  File \"C:\\Users\\robin\\anaconda3\\lib\\site-packages\\sklearn\\svm\\_classes.py\", line 257, in fit\n",
      "    self.coef_, self.intercept_, self.n_iter_ = _fit_liblinear(\n",
      "  File \"C:\\Users\\robin\\anaconda3\\lib\\site-packages\\sklearn\\svm\\_base.py\", line 1185, in _fit_liblinear\n",
      "    solver_type = _get_liblinear_solver_type(multi_class, penalty, loss, dual)\n",
      "  File \"C:\\Users\\robin\\anaconda3\\lib\\site-packages\\sklearn\\svm\\_base.py\", line 1024, in _get_liblinear_solver_type\n",
      "    raise ValueError(\n",
      "ValueError: Unsupported set of arguments: The combination of penalty='l1' and loss='squared_hinge' are not supported when dual=True, Parameters: penalty='l1', loss='squared_hinge', dual=True\n",
      "\n",
      "  warnings.warn(some_fits_failed_message, FitFailedWarning)\n",
      "C:\\Users\\robin\\anaconda3\\lib\\site-packages\\sklearn\\model_selection\\_search.py:969: UserWarning: One or more of the test scores are non-finite: [       nan 0.76809311        nan 0.76822499        nan 0.76840678\n",
      "        nan 0.76806893]\n",
      "  warnings.warn(\n"
     ]
    },
    {
     "name": "stdout",
     "output_type": "stream",
     "text": [
      "Best parameters on training set :\n",
      "{'C': 0.7, 'penalty': 'l2'}\n",
      "Best score on training set : 0.768\n",
      "Proceed LinearSVC - done in 13724s\n"
     ]
    },
    {
     "name": "stderr",
     "output_type": "stream",
     "text": [
      "C:\\Users\\robin\\anaconda3\\lib\\site-packages\\sklearn\\svm\\_base.py:1206: ConvergenceWarning: Liblinear failed to converge, increase the number of iterations.\n",
      "  warnings.warn(\n"
     ]
    }
   ],
   "source": [
    "# LinearSVC\n",
    "\n",
    "model = LinearSVC(random_state=random_state, max_iter=10000)\n",
    "param_grid = {'penalty' : ['l1', 'l2'], 'C' : np.linspace(0.1, 1, num=4)}\n",
    "\n",
    "with timer(\"Proceed LinearSVC\"):\n",
    "    LinearSVC_clf = run_GridSearchCV(model, x_train_pca, y_train, folds, param_grid, optimized_metric)"
   ]
  },
  {
   "cell_type": "code",
   "execution_count": 23,
   "id": "887aa048",
   "metadata": {},
   "outputs": [
    {
     "name": "stdout",
     "output_type": "stream",
     "text": [
      "Fitting 5 folds for each of 4 candidates, totalling 20 fits\n",
      "Best parameters on training set :\n",
      "{'C': 0.4}\n",
      "Best score on training set : 0.599\n",
      "Proceed SVC - done in 7941s\n"
     ]
    },
    {
     "name": "stderr",
     "output_type": "stream",
     "text": [
      "C:\\Users\\robin\\anaconda3\\lib\\site-packages\\sklearn\\svm\\_base.py:284: ConvergenceWarning: Solver terminated early (max_iter=10000).  Consider pre-processing your data with StandardScaler or MinMaxScaler.\n",
      "  warnings.warn(\n"
     ]
    }
   ],
   "source": [
    "# SVC\n",
    "\n",
    "model = SVC(kernel='rbf', random_state=random_state, max_iter=10000)\n",
    "param_grid = {'C' : np.linspace(0.1, 1, num=4)}\n",
    "\n",
    "with timer(\"Proceed SVC\"):\n",
    "    SVC_clf = run_GridSearchCV(model, x_train_pca, y_train, folds, param_grid, optimized_metric)"
   ]
  },
  {
   "cell_type": "markdown",
   "id": "bed3021e",
   "metadata": {},
   "source": [
    "## VI - Trees and ensemblist methods <a class=\"anchor\" id=\"13-bullet\"></a>"
   ]
  },
  {
   "cell_type": "code",
   "execution_count": 24,
   "id": "359e2e2c",
   "metadata": {},
   "outputs": [
    {
     "name": "stdout",
     "output_type": "stream",
     "text": [
      "Fitting 5 folds for each of 9 candidates, totalling 45 fits\n",
      "Best parameters on training set :\n",
      "{'min_samples_leaf': 5, 'min_samples_split': 2}\n",
      "Best score on training set : 0.541\n",
      "Proceed DecisionTreeClassifier - done in 1815s\n"
     ]
    }
   ],
   "source": [
    "# DecisionTreeClassifier\n",
    "\n",
    "model = DecisionTreeClassifier(random_state=random_state)\n",
    "param_grid = {'min_samples_split' : [2, 4, 8], 'min_samples_leaf' : [1, 3, 5]}\n",
    "\n",
    "with timer(\"Proceed DecisionTreeClassifier\"):\n",
    "    DecisionTreeClassifier_clf = run_GridSearchCV(model, x_train_pca, y_train, folds, param_grid, optimized_metric)"
   ]
  },
  {
   "cell_type": "code",
   "execution_count": 25,
   "id": "b694f644",
   "metadata": {},
   "outputs": [
    {
     "name": "stdout",
     "output_type": "stream",
     "text": [
      "Fitting 5 folds for each of 3 candidates, totalling 15 fits\n",
      "Best parameters on training set :\n",
      "{'n_estimators': 500}\n",
      "Best score on training set : 0.760\n",
      "Proceed GradientBoostingClassifier - done in 43891s\n"
     ]
    }
   ],
   "source": [
    "# GradientBoostingClassifier\n",
    "\n",
    "model = GradientBoostingClassifier(random_state=random_state)\n",
    "param_grid = {'n_estimators' : [10, 100, 500]}\n",
    "\n",
    "with timer(\"Proceed GradientBoostingClassifier\"):\n",
    "    GradientBoostingClassifier_clf = run_GridSearchCV(model, x_train_pca, y_train, folds, param_grid, optimized_metric)"
   ]
  },
  {
   "cell_type": "code",
   "execution_count": 26,
   "id": "b62c007c",
   "metadata": {},
   "outputs": [
    {
     "name": "stdout",
     "output_type": "stream",
     "text": [
      "Fitting 5 folds for each of 3 candidates, totalling 15 fits\n",
      "Best parameters on training set :\n",
      "{'n_estimators': 500}\n",
      "Best score on training set : 0.670\n",
      "Proceed RandomForestClassifier - done in 12003s\n"
     ]
    }
   ],
   "source": [
    "# RandomForestClassifier\n",
    "\n",
    "model = RandomForestClassifier(random_state=random_state)\n",
    "param_grid = {'n_estimators' : [10, 100, 500]}\n",
    "\n",
    "with timer(\"Proceed RandomForestClassifier\"):\n",
    "    RandomForestClassifier_clf = run_GridSearchCV(model, x_train_pca, y_train, folds, param_grid, optimized_metric)"
   ]
  },
  {
   "cell_type": "markdown",
   "id": "e8b34e30",
   "metadata": {},
   "source": [
    "## VII - Neural networks <a class=\"anchor\" id=\"14-bullet\"></a>"
   ]
  },
  {
   "cell_type": "markdown",
   "id": "636224ce",
   "metadata": {},
   "source": [
    "## VIII - Compare <a class=\"anchor\" id=\"16-bullet\"></a>"
   ]
  },
  {
   "cell_type": "code",
   "execution_count": null,
   "id": "67aa7c23",
   "metadata": {},
   "outputs": [],
   "source": [
    "# Compare scores in this iteration\n",
    "\n",
    "cv_clfs = {\n",
    "    'LogisticRegression' : LogisticRegression_clf\n",
    "    'RidgeClassifier' : RidgeClassifier_clf\n",
    "    'KNeighborsClassifier' : KNeighborsClassifier_clf\n",
    "    'LinearSVC' : LinearSVC_clf\n",
    "    'SVC' : SVC_clf\n",
    "    'DecisionTreeClassifier' : DecisionTreeClassifier_clf\n",
    "    'GradientBoostingClassifier' : GradientBoostingClassifier_clf\n",
    "    'RandomForestClassifier' : RandomForestClassifier_clf\n",
    "}\n",
    "\n",
    "iteration_1 = pd.DataFrame()\n",
    "\n",
    "for key, clf in cv_clfs.items():\n",
    "    iteration_1[key] = [clf.best_score_, clf.best_params_]\n",
    "    \n",
    "iteration_1.index = ['best_score_ : ' + optimized_metric, 'best_params_']\n",
    "iteration_1"
   ]
  },
  {
   "cell_type": "code",
   "execution_count": null,
   "id": "2a21dc3a",
   "metadata": {},
   "outputs": [],
   "source": [
    "iteration_1.to_csv('./Scores/iteration_1.csv')"
   ]
  },
  {
   "cell_type": "markdown",
   "id": "f0be7513",
   "metadata": {},
   "source": [
    "Valeurs testées première itération (cleaned_data_1):\n",
    "- LogisticRegression : {'C' : np.linspace(0.1, 1, num=4)}, best : C = 0.1 -> tester plus petit\n",
    "- RidgeClassifier : {'alpha' : np.linspace(1, 10, num=4, dtype=int)}, best : alpha = 10 -> tester plus grand\n",
    "- KNeighborsClassifier : {'n_neighbors' : np.linspace(3, 10, num=4, dtype=int)}, best : n_neighbors = 10 > tester plus grand\n",
    "- LinearSVC : {'penalty' : ['l1', 'l2'], 'C' : np.linspace(0.1, 1, num=4)}, bests :\n",
    "    - C = 0.7 --> tester valeurs autour\n",
    "    - penalty = l2 --> conserver\n",
    "- SVC : {'C' : np.linspace(0.1, 1, num=4)}, best : C = 0.4 -> tester valeurs autour\n",
    "- DecisionTreeClassifier : {'min_samples_split' : [2, 4, 8], 'min_samples_leaf' : [1, 3, 5]}, bests :\n",
    "    - min_samples_split = 2 --> conserver\n",
    "    - min_samples_leaf = 5 --> tester plus grand\n",
    "- GradientBoostingClassifier : {'n_estimators' : [10, 100, 500]}, best : n_estimators = 500 -> tester plus grand\n",
    "- RandomForestClassifier : {'n_estimators' : [10, 100, 500]}, best : n_estimators = 500 -> tester plus grand"
   ]
  }
 ],
 "metadata": {
  "kernelspec": {
   "display_name": "Python 3 (ipykernel)",
   "language": "python",
   "name": "python3"
  },
  "language_info": {
   "codemirror_mode": {
    "name": "ipython",
    "version": 3
   },
   "file_extension": ".py",
   "mimetype": "text/x-python",
   "name": "python",
   "nbconvert_exporter": "python",
   "pygments_lexer": "ipython3",
   "version": "3.9.12"
  }
 },
 "nbformat": 4,
 "nbformat_minor": 5
}
